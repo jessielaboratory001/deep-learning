{
  "nbformat": 4,
  "nbformat_minor": 0,
  "metadata": {
    "colab": {
      "provenance": [],
      "gpuType": "T4",
      "authorship_tag": "ABX9TyOnL3KZIDwT1r4qKxL1jwAG"
    },
    "kernelspec": {
      "name": "python3",
      "display_name": "Python 3"
    },
    "language_info": {
      "name": "python"
    },
    "accelerator": "GPU",
    "gpuClass": "standard"
  },
  "cells": [
    {
      "cell_type": "code",
      "source": [
        "from google.colab import drive\n",
        "drive.mount('/content/drive')"
      ],
      "metadata": {
        "colab": {
          "base_uri": "https://localhost:8080/"
        },
        "id": "5jo3Yiz0axwm",
        "outputId": "4db69b70-45df-433f-e7b3-54bf8d7856a2"
      },
      "execution_count": null,
      "outputs": [
        {
          "output_type": "stream",
          "name": "stdout",
          "text": [
            "Drive already mounted at /content/drive; to attempt to forcibly remount, call drive.mount(\"/content/drive\", force_remount=True).\n"
          ]
        }
      ]
    },
    {
      "cell_type": "code",
      "execution_count": null,
      "metadata": {
        "id": "9plqCjs9392z"
      },
      "outputs": [],
      "source": [
        "from skimage import io\n",
        "import matplotlib.pyplot as plt\n",
        "import numpy as np\n",
        "\n",
        "import imgaug.augmenters as iaa\n",
        "import imgaug as ia\n",
        "\n",
        "import glob, os\n",
        "from PIL import Image\n",
        "import time"
      ]
    },
    {
      "cell_type": "code",
      "source": [
        "img = io.imread('/content/drive/MyDrive/Colab Notebooks/report/pic1/a00001.jpg')\n",
        "plt.figure(figsize=(1, 1))\n",
        "plt.imshow(img)\n",
        "img.shape"
      ],
      "metadata": {
        "id": "oP2dIDEB4Fk7"
      },
      "execution_count": null,
      "outputs": []
    },
    {
      "cell_type": "markdown",
      "source": [
        "每次選擇一種seq"
      ],
      "metadata": {
        "id": "jKYUnlR1uM3S"
      }
    },
    {
      "cell_type": "code",
      "source": [
        "# 100% horizontal flip\n",
        "seq = iaa.Sequential([\n",
        "    iaa.Fliplr(1), \n",
        "])"
      ],
      "metadata": {
        "id": "p_TmrAjNuUxC"
      },
      "execution_count": null,
      "outputs": []
    },
    {
      "cell_type": "code",
      "source": [
        "seq = iaa.Sequential([\n",
        "    iaa.Affine(\n",
        "      rotate=(-20, 20)\n",
        "      )\n",
        "], random_order=True) # apply augmenters in random order"
      ],
      "metadata": {
        "id": "akgmg_cguYD7"
      },
      "execution_count": null,
      "outputs": []
    },
    {
      "cell_type": "code",
      "source": [
        "# Strengthen or weaken the contrast in each image.\n",
        "seq = iaa.Sequential([\n",
        "    iaa.LinearContrast((1.5, 2.5))\n",
        "])\n"
      ],
      "metadata": {
        "id": "BpTUxaiZueZp"
      },
      "execution_count": null,
      "outputs": []
    },
    {
      "cell_type": "code",
      "source": [
        "# Sharpen each image, overlay the result with the original\n",
        "# image using an alpha between 0 (no sharpening) and 1\n",
        "seq = iaa.Sequential([\n",
        "    iaa.Sharpen(alpha=(0, 1.0), lightness=(0.85, 1.5))\n",
        "])\n"
      ],
      "metadata": {
        "id": "mxt7MdfLug6J"
      },
      "execution_count": null,
      "outputs": []
    },
    {
      "cell_type": "code",
      "source": [
        "seq = iaa.Sequential([\n",
        "    iaa.GaussianBlur(sigma=(0.9, 2.0))\n",
        "])\n"
      ],
      "metadata": {
        "id": "vRDxNHm9ukmx"
      },
      "execution_count": null,
      "outputs": []
    },
    {
      "cell_type": "code",
      "source": [
        "# Same as sharpen, but for an embossing effect.\n",
        "seq = iaa.Sequential([\n",
        "    iaa.Emboss(alpha=(0.2, 1.0), strength=(0, 2.0))\n",
        "])\n"
      ],
      "metadata": {
        "id": "FxqHec5ouoGJ"
      },
      "execution_count": null,
      "outputs": []
    },
    {
      "cell_type": "code",
      "source": [
        "ia.seed(1)\n",
        "# Sometimes(0.5, ...) applies the given augmenter in 50% of all cases,\n",
        "# e.g. Sometimes(0.5, GaussianBlur(0.3)) would blur roughly every second image.\n",
        "sometimes = lambda aug: iaa.Sometimes(0.5, aug)\n",
        "\n",
        "# Search in some images either for all edges or for\n",
        "# directed edges. These edges are then marked in a black\n",
        "# and white image and overlayed with the original image\n",
        "# using an alpha of 0 to 0.7.\n",
        "seq = iaa.Sequential([\n",
        "    sometimes(iaa.OneOf([\n",
        "      iaa.EdgeDetect(alpha=(0.2, 0.8)),\n",
        "      iaa.DirectedEdgeDetect(alpha=(0.3, 0.8), direction=(0.3, 1.0))\n",
        "    ]))\n",
        "])\n"
      ],
      "metadata": {
        "id": "aHrxYuKrurDZ"
      },
      "execution_count": null,
      "outputs": []
    },
    {
      "cell_type": "code",
      "source": [
        "fpath = \"/content/drive/MyDrive/Colab Notebooks/report/\"\n",
        "fs = glob.glob(fpath+\"pic1/*.*\",)\n",
        "\n",
        "i = 1\n",
        "j = 830 #檔名接著之前的號碼\n",
        "fchar = 'a' #檔名的開頭\n",
        "for pics in fs:\n",
        "  img = io.imread(pics)\n",
        "  img_aug = seq.augment_image(img)\n",
        "  pics1 = pics.split('/')\n",
        "  num = int(pics1[len(pics1)-1][1:6])\n",
        "  fpath1 = fpath+'/pic11/{}{:0>5d}.jpg'.format(fchar,num+j)\n",
        "  io.imsave(fpath1,img_aug) \n",
        "\n",
        "  time.sleep(0.3)\n",
        "  i += 1\n",
        "  # plt.figure(figsize=(1, 1))\n",
        "  # plt.imshow(img_aug)   \n"
      ],
      "metadata": {
        "id": "y2AMb0xQ5EAk"
      },
      "execution_count": null,
      "outputs": []
    }
  ]
}